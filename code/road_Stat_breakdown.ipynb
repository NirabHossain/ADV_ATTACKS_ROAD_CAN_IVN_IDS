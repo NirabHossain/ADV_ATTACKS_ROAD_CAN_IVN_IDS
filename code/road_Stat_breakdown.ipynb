{
 "cells": [
  {
   "cell_type": "code",
   "execution_count": 1,
   "id": "1a5d2648-baa2-4aae-a1c7-139cc86a9129",
   "metadata": {},
   "outputs": [],
   "source": [
    "#Table 2\n",
    "import pandas as pd\n",
    "import glob\n",
    "import os\n",
    "# Path to the folder containing your CSV files\n",
    "csv_folder = 'road/preprocessed'  # Update this\n",
    "# Reading all CSV files in the folder\n",
    "csv_files = glob.glob(os.path.join(csv_folder, \"*.csv\"))\n",
    "# Filter: exclude files ending with 'm.csv'\n",
    "csv_files = [f for f in csv_files if not os.path.basename(f).rstrip(\".csv\").endswith(\"m\")]\n"
   ]
  },
  {
   "cell_type": "code",
   "execution_count": 2,
   "id": "fd1f9d0a-4146-485d-be7a-d8d5562d7c2a",
   "metadata": {},
   "outputs": [],
   "source": [
    "# Define a helper function to count benign and malicious\n",
    "def count_flags(csv_files):\n",
    "    results = []\n",
    "    for file_path in csv_files:\n",
    "        df = pd.read_csv(file_path)\n",
    "        flag_col = df.columns[-1]  # use last column\n",
    "        if df[flag_col].dtype == object:\n",
    "            flags = df[flag_col].astype(str).str.strip()\n",
    "            benign = (flags == '0').sum()\n",
    "            malicious = (flags == '1').sum()\n",
    "        else:\n",
    "            benign = (df[flag_col] == 0).sum()\n",
    "            malicious = (df[flag_col] == 1).sum()\n",
    "\n",
    "        total = benign + malicious\n",
    "        results.append((os.path.basename(file_path), benign, malicious, total))\n",
    "    return results"
   ]
  },
  {
   "cell_type": "code",
   "execution_count": 3,
   "id": "a4489a08-f2e3-448f-b356-43e603b71419",
   "metadata": {},
   "outputs": [],
   "source": [
    "# Collect counts for each attack type\n",
    "summary_data = {\n",
    "    'Attack Type': [],\n",
    "    'Benign': [],\n",
    "    'Malicious': [],\n",
    "    'Total': []\n",
    "}\n",
    "\n",
    "results = count_flags(csv_files)\n",
    "for filename, benign, malicious, total in results:\n",
    "    name = os.path.splitext(filename)[0]  # Attack type from filename\n",
    "    summary_data['Attack Type'].append(name)\n",
    "    summary_data['Benign'].append(benign)\n",
    "    summary_data['Malicious'].append(malicious)\n",
    "    summary_data['Total'].append(total)\n"
   ]
  },
  {
   "cell_type": "code",
   "execution_count": 4,
   "id": "d4a6b8d7-8522-47cb-8acf-fbead790d643",
   "metadata": {},
   "outputs": [],
   "source": [
    "# Create the summary DataFrame\n",
    "summary_df = pd.DataFrame(summary_data)\n",
    "\n",
    "# Add a total row\n",
    "total_row = {\n",
    "    'Attack Type': 'Total',\n",
    "    'Benign': summary_df['Benign'].sum(),\n",
    "    'Malicious': summary_df['Malicious'].sum(),\n",
    "    'Total': summary_df['Total'].sum()\n",
    "}\n",
    "summary_df = pd.concat([summary_df, pd.DataFrame([total_row])], ignore_index=True)"
   ]
  },
  {
   "cell_type": "code",
   "execution_count": 7,
   "id": "97fc9d5c-2710-40b3-a9b4-d06365f5dcfb",
   "metadata": {},
   "outputs": [
    {
     "name": "stdout",
     "output_type": "stream",
     "text": [
      "Attack Type    Benign Malicious     Total\n",
      "       csa1    74,151     2,087    76,238\n",
      "       csa2    63,259     2,141    65,400\n",
      "       csa3    38,002     1,265    39,267\n",
      "        fa1    45,656       592    46,248\n",
      "        fa2    29,964       353    30,317\n",
      "        fa3    12,287       116    12,403\n",
      "      mecta    57,932        88    58,020\n",
      "       msa1   194,553     5,555   200,108\n",
      "       msa2   133,104     3,776   136,880\n",
      "       msa3   192,559     7,890   200,449\n",
      "    rloffa1    60,119     3,535    63,654\n",
      "    rloffa2    60,119     3,535    63,654\n",
      "    rloffa3    60,119     3,535    63,654\n",
      "     rlona1   156,318     5,065   161,383\n",
      "     rlona2   156,318     5,065   161,383\n",
      "     rlona3   156,318     5,065   161,383\n",
      "      Total 1,490,778    49,663 1,540,441\n"
     ]
    },
    {
     "name": "stderr",
     "output_type": "stream",
     "text": [
      "C:\\Users\\Lenovo\\AppData\\Local\\Temp\\ipykernel_12120\\3262663311.py:2: FutureWarning: errors='ignore' is deprecated and will raise in a future version. Use to_numeric without passing `errors` and catch exceptions explicitly instead\n",
      "  summary_df[['Benign', 'Malicious', 'Total']] = summary_df[['Benign', 'Malicious', 'Total']].apply(pd.to_numeric, errors='ignore')\n"
     ]
    }
   ],
   "source": [
    "# Ensure counts are integers before formatting\n",
    "summary_df[['Benign', 'Malicious', 'Total']] = summary_df[['Benign', 'Malicious', 'Total']].apply(pd.to_numeric, errors='ignore')\n",
    "\n",
    "# Apply comma formatting only to numeric values\n",
    "for col in ['Benign', 'Malicious', 'Total']:\n",
    "    summary_df[col] = summary_df[col].apply(lambda x: f\"{x:,}\" if isinstance(x, (int, float)) else x)\n",
    "\n",
    "# Display\n",
    "print(summary_df.to_string(index=False))\n",
    "#summary_df.to_csv('attack_summary.csv', index=False)\n",
    "#with open('attack_summary.txt', 'w') as f:\n",
    "#    f.write(summary_df.to_string(index=False))\n"
   ]
  },
  {
   "cell_type": "code",
   "execution_count": null,
   "id": "4e6ba3d9-cffa-4618-96c9-ddb6db0489f6",
   "metadata": {},
   "outputs": [],
   "source": []
  },
  {
   "cell_type": "code",
   "execution_count": null,
   "id": "541743a1-4d94-4714-8f81-6d006e5c448d",
   "metadata": {},
   "outputs": [],
   "source": []
  }
 ],
 "metadata": {
  "kernelspec": {
   "display_name": "ivn-ids",
   "language": "python",
   "name": "python3"
  },
  "language_info": {
   "codemirror_mode": {
    "name": "ipython",
    "version": 3
   },
   "file_extension": ".py",
   "mimetype": "text/x-python",
   "name": "python",
   "nbconvert_exporter": "python",
   "pygments_lexer": "ipython3",
   "version": "3.10.16"
  }
 },
 "nbformat": 4,
 "nbformat_minor": 5
}
