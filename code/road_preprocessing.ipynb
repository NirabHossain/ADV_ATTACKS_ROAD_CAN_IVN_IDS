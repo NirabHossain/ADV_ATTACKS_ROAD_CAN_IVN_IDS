{
 "cells": [
  {
   "cell_type": "code",
   "execution_count": 1,
   "id": "1b6a15f5-5fd8-435a-b577-cb53bc33641f",
   "metadata": {},
   "outputs": [],
   "source": [
    "def make_can_df(log_filepath):\n",
    "\n",
    "    \"\"\"\n",
    "\n",
    "    Puts candump data into a dataframe with columns 'time', 'aid', and 'data'\n",
    "\n",
    "    \"\"\"\n",
    "\n",
    "    can_df = pd.read_fwf(\n",
    "\n",
    "        log_filepath, delimiter = ' '+ '#' + '('+')',\n",
    "\n",
    "        skiprows = 0,skipfooter=0,\n",
    "\n",
    "        usecols = [0,2,3],\n",
    "\n",
    "        dtype = {0:'float64', 1:str, 2: str},\n",
    "\n",
    "        names = ['time','aid', 'data'] )\n",
    "\n",
    " \n",
    "\n",
    "    can_df.aid = can_df.aid.apply(lambda x: int(x,16))\n",
    "\n",
    "    can_df.data = can_df.data.apply(lambda x: x.zfill(16)) #pad with 0s on the left for data with dlc < 8\n",
    "\n",
    "    can_df.time = can_df.time - can_df.time.min()\n",
    "\n",
    "    return can_df[can_df.aid<=0x700]"
   ]
  },
  {
   "cell_type": "code",
   "execution_count": 64,
   "id": "3b52da77-c261-43fa-9d56-39f8b97e122a",
   "metadata": {},
   "outputs": [],
   "source": [
    "import pandas as pd\n",
    "csa1_df = make_can_df('road/attacks/correlated_signal_attack_1.log')\n",
    "csa1m_df = make_can_df('road/attacks/correlated_signal_attack_1_masquerade.log')\n",
    "csa2_df = make_can_df('road/attacks/correlated_signal_attack_2.log')\n",
    "csa2m_df = make_can_df('road/attacks/correlated_signal_attack_2_masquerade.log')\n",
    "csa3_df = make_can_df('road/attacks/correlated_signal_attack_3.log')\n",
    "csa3m_df = make_can_df('road/attacks/correlated_signal_attack_3_masquerade.log')\n",
    "mecta_df = make_can_df('road/attacks/max_engine_coolant_temp_attack.log') \n",
    "fa1_df= make_can_df('road/attacks/fuzzing_attack_1.log')\n",
    "fa2_df= make_can_df('road/attacks/fuzzing_attack_2.log')\n",
    "fa3_df= make_can_df('road/attacks/fuzzing_attack_3.log')\n",
    "mectam_df = make_can_df('road/attacks/max_engine_coolant_temp_attack_masquerade.log')\n",
    "msa1_df = make_can_df('road/attacks/max_speedometer_attack_1.log')\n",
    "msa1m_df = make_can_df('road/attacks/max_speedometer_attack_1_masquerade.log')\n",
    "msa2_df = make_can_df('road/attacks/max_speedometer_attack_2.log')\n",
    "msa2m_df = make_can_df('road/attacks/max_speedometer_attack_2_masquerade.log')\n",
    "msa3_df = make_can_df('road/attacks/max_speedometer_attack_3.log')\n",
    "msa3m_df = make_can_df('road/attacks/max_speedometer_attack_3_masquerade.log')\n",
    "rloffa1_df = make_can_df('road/attacks/reverse_light_off_attack_1.log')\n",
    "rloffa1m_df = make_can_df('road/attacks/reverse_light_off_attack_1_masquerade.log')\n",
    "rloffa2_df = make_can_df('road/attacks/reverse_light_off_attack_2.log')\n",
    "rloffa2m_df = make_can_df('road/attacks/reverse_light_off_attack_2_masquerade.log')\n",
    "rloffa3_df = make_can_df('road/attacks/reverse_light_off_attack_3.log')\n",
    "rloffa3m_df = make_can_df('road/attacks/reverse_light_off_attack_3_masquerade.log')\n",
    "rlona1_df = make_can_df('road/attacks/reverse_light_on_attack_1_masquerade.log')\n",
    "rlona1m_df = make_can_df('road/attacks/reverse_light_on_attack_1_masquerade.log')\n",
    "rlona2_df = make_can_df('road/attacks/reverse_light_on_attack_2_masquerade.log')\n",
    "rlona2m_df = make_can_df('road/attacks/reverse_light_on_attack_2_masquerade.log')\n",
    "rlona3_df = make_can_df('road/attacks/reverse_light_on_attack_3_masquerade.log')\n",
    "rlona3m_df = make_can_df('road/attacks/reverse_light_on_attack_3_masquerade.log')"
   ]
  },
  {
   "cell_type": "code",
   "execution_count": 3,
   "id": "7d4e27cc-a874-4911-931a-618afe11fb37",
   "metadata": {},
   "outputs": [],
   "source": [
    "import re\n",
    "import pandas as pd\n",
    "def label_and_format_dataframe(df: pd.DataFrame, injection_data_str: str, output_csv: str = None):\n",
    "    \"\"\"\n",
    "    Formats a parsed CAN DataFrame and labels messages based on a wildcard-aware injection pattern.\n",
    "\n",
    "    Args:\n",
    "        df (pd.DataFrame): Input DataFrame with columns ['time', 'aid', 'data']\n",
    "        injection_data_str (str): Injection string with possible 'X' wildcards (e.g., '59XX45XX0000FFFF')\n",
    "        output_csv (str, optional): Path to save the labeled output CSV (if given)\n",
    "\n",
    "    Returns:\n",
    "        pd.DataFrame: Labeled and formatted DataFrame\n",
    "    \"\"\"\n",
    "\n",
    "    # Copy input DataFrame and standardize\n",
    "    df = df.copy()\n",
    "    df['data'] = df['data'].str.upper().str.zfill(16)\n",
    "\n",
    "    # Split into DATA[0] to DATA[7]\n",
    "    for i in range(8):\n",
    "        df[f'DATA[{i}]'] = df['data'].str[i*2:i*2+2].apply(lambda x: int(x, 16))\n",
    "\n",
    "    # Add DLC = 8\n",
    "    df['DLC'] = 8\n",
    "\n",
    "    # Build regex pattern with wildcard support\n",
    "    inj = injection_data_str.upper().zfill(16)\n",
    "    pattern = ''.join(['..' if 'X' in inj[i:i+2] else inj[i:i+2] for i in range(0, len(inj), 2)])\n",
    "    regex = re.compile(f\"^{pattern}$\")\n",
    "\n",
    "    # Assign 1 for malicious (matches), 0 for benign\n",
    "    df['Flag'] = df['data'].apply(lambda x: 1 if regex.match(x) else 0)\n",
    "\n",
    "    # Rename columns\n",
    "    df.rename(columns={'time': 'Timestamp', 'aid': 'CAN ID'}, inplace=True)\n",
    "\n",
    "    # Reorder columns\n",
    "    ordered_cols = ['Timestamp', 'CAN ID', 'DLC'] + [f'DATA[{i}]' for i in range(8)] + ['Flag']\n",
    "    df = df[ordered_cols]\n",
    "    df.drop('Timestamp', axis=1, inplace=True)\n",
    "    display(df['Flag'].value_counts())\n",
    "    # Save if requested\n",
    "    if output_csv:\n",
    "        df.to_csv(output_csv, index=False)\n",
    "        print(f\" Saved labeled file to: {output_csv}\")\n",
    "\n",
    "    return df\n"
   ]
  },
  {
   "cell_type": "code",
   "execution_count": null,
   "id": "7b93ecf6-b9c6-4deb-8e29-9e4b4469ac43",
   "metadata": {},
   "outputs": [
    {
     "data": {
      "text/plain": [
       "Flag\n",
       "0    74151\n",
       "1     2087\n",
       "Name: count, dtype: int64"
      ]
     },
     "metadata": {},
     "output_type": "display_data"
    },
    {
     "name": "stdout",
     "output_type": "stream",
     "text": [
      " Saved labeled file to: road/preprocessed/csa1.csv\n"
     ]
    },
    {
     "data": {
      "text/plain": [
       "Flag\n",
       "0    72065\n",
       "1     2087\n",
       "Name: count, dtype: int64"
      ]
     },
     "metadata": {},
     "output_type": "display_data"
    },
    {
     "name": "stdout",
     "output_type": "stream",
     "text": [
      " Saved labeled file to: road/preprocessed/csa1m.csv\n"
     ]
    },
    {
     "data": {
      "text/plain": [
       "Flag\n",
       "0    63259\n",
       "1     2141\n",
       "Name: count, dtype: int64"
      ]
     },
     "metadata": {},
     "output_type": "display_data"
    },
    {
     "name": "stdout",
     "output_type": "stream",
     "text": [
      " Saved labeled file to: road/preprocessed/csa2.csv\n"
     ]
    },
    {
     "data": {
      "text/plain": [
       "Flag\n",
       "0    61119\n",
       "1     2141\n",
       "Name: count, dtype: int64"
      ]
     },
     "metadata": {},
     "output_type": "display_data"
    },
    {
     "name": "stdout",
     "output_type": "stream",
     "text": [
      " Saved labeled file to: road/preprocessed/csa2m.csv\n"
     ]
    },
    {
     "data": {
      "text/plain": [
       "Flag\n",
       "0    38002\n",
       "1     1265\n",
       "Name: count, dtype: int64"
      ]
     },
     "metadata": {},
     "output_type": "display_data"
    },
    {
     "name": "stdout",
     "output_type": "stream",
     "text": [
      " Saved labeled file to: road/preprocessed/csa3.csv\n"
     ]
    },
    {
     "data": {
      "text/plain": [
       "Flag\n",
       "0    36738\n",
       "1     1265\n",
       "Name: count, dtype: int64"
      ]
     },
     "metadata": {},
     "output_type": "display_data"
    },
    {
     "name": "stdout",
     "output_type": "stream",
     "text": [
      " Saved labeled file to: road/preprocessed/csa3m.csv\n"
     ]
    },
    {
     "data": {
      "text/plain": [
       "Flag\n",
       "0    45656\n",
       "1      592\n",
       "Name: count, dtype: int64"
      ]
     },
     "metadata": {},
     "output_type": "display_data"
    },
    {
     "name": "stdout",
     "output_type": "stream",
     "text": [
      " Saved labeled file to: road/preprocessed/fa1.csv\n"
     ]
    },
    {
     "data": {
      "text/plain": [
       "Flag\n",
       "0    29964\n",
       "1      353\n",
       "Name: count, dtype: int64"
      ]
     },
     "metadata": {},
     "output_type": "display_data"
    },
    {
     "name": "stdout",
     "output_type": "stream",
     "text": [
      " Saved labeled file to: road/preprocessed/fa2.csv\n"
     ]
    },
    {
     "data": {
      "text/plain": [
       "Flag\n",
       "0    12287\n",
       "1      116\n",
       "Name: count, dtype: int64"
      ]
     },
     "metadata": {},
     "output_type": "display_data"
    },
    {
     "name": "stdout",
     "output_type": "stream",
     "text": [
      " Saved labeled file to: road/preprocessed/fa3.csv\n"
     ]
    },
    {
     "data": {
      "text/plain": [
       "Flag\n",
       "0    194553\n",
       "1      5555\n",
       "Name: count, dtype: int64"
      ]
     },
     "metadata": {},
     "output_type": "display_data"
    },
    {
     "name": "stdout",
     "output_type": "stream",
     "text": [
      " Saved labeled file to: road/preprocessed/msa1.csv\n"
     ]
    },
    {
     "data": {
      "text/plain": [
       "Flag\n",
       "0    192109\n",
       "1      5555\n",
       "Name: count, dtype: int64"
      ]
     },
     "metadata": {},
     "output_type": "display_data"
    },
    {
     "name": "stdout",
     "output_type": "stream",
     "text": [
      " Saved labeled file to: road/preprocessed/msa1m.csv\n"
     ]
    },
    {
     "data": {
      "text/plain": [
       "Flag\n",
       "0    133104\n",
       "1      3776\n",
       "Name: count, dtype: int64"
      ]
     },
     "metadata": {},
     "output_type": "display_data"
    },
    {
     "name": "stdout",
     "output_type": "stream",
     "text": [
      " Saved labeled file to: road/preprocessed/msa2.csv\n"
     ]
    },
    {
     "data": {
      "text/plain": [
       "Flag\n",
       "0    129964\n",
       "1      3776\n",
       "Name: count, dtype: int64"
      ]
     },
     "metadata": {},
     "output_type": "display_data"
    },
    {
     "name": "stdout",
     "output_type": "stream",
     "text": [
      " Saved labeled file to: road/preprocessed/msa2m.csv\n"
     ]
    },
    {
     "data": {
      "text/plain": [
       "Flag\n",
       "0    192559\n",
       "1      7890\n",
       "Name: count, dtype: int64"
      ]
     },
     "metadata": {},
     "output_type": "display_data"
    },
    {
     "name": "stdout",
     "output_type": "stream",
     "text": [
      " Saved labeled file to: road/preprocessed/msa3.csv\n"
     ]
    },
    {
     "data": {
      "text/plain": [
       "Flag\n",
       "0    186452\n",
       "1      7890\n",
       "Name: count, dtype: int64"
      ]
     },
     "metadata": {},
     "output_type": "display_data"
    },
    {
     "name": "stdout",
     "output_type": "stream",
     "text": [
      " Saved labeled file to: road/preprocessed/msa3m.csv\n"
     ]
    },
    {
     "data": {
      "text/plain": [
       "Flag\n",
       "0    57932\n",
       "1       88\n",
       "Name: count, dtype: int64"
      ]
     },
     "metadata": {},
     "output_type": "display_data"
    },
    {
     "name": "stdout",
     "output_type": "stream",
     "text": [
      " Saved labeled file to: road/preprocessed/mecta_df.csv\n"
     ]
    },
    {
     "data": {
      "text/plain": [
       "Flag\n",
       "0    57890\n",
       "1       88\n",
       "Name: count, dtype: int64"
      ]
     },
     "metadata": {},
     "output_type": "display_data"
    },
    {
     "name": "stdout",
     "output_type": "stream",
     "text": [
      " Saved labeled file to: road/preprocessed/mectam_df.csv\n"
     ]
    },
    {
     "data": {
      "text/plain": [
       "Flag\n",
       "0    60119\n",
       "1     3535\n",
       "Name: count, dtype: int64"
      ]
     },
     "metadata": {},
     "output_type": "display_data"
    },
    {
     "name": "stdout",
     "output_type": "stream",
     "text": [
      " Saved labeled file to: road/preprocessed/rloffa1.csv\n"
     ]
    },
    {
     "data": {
      "text/plain": [
       "Flag\n",
       "0    59447\n",
       "1     3535\n",
       "Name: count, dtype: int64"
      ]
     },
     "metadata": {},
     "output_type": "display_data"
    },
    {
     "name": "stdout",
     "output_type": "stream",
     "text": [
      " Saved labeled file to: road/preprocessed/rloffa1m.csv\n"
     ]
    },
    {
     "data": {
      "text/plain": [
       "Flag\n",
       "0    60119\n",
       "1     3535\n",
       "Name: count, dtype: int64"
      ]
     },
     "metadata": {},
     "output_type": "display_data"
    },
    {
     "name": "stdout",
     "output_type": "stream",
     "text": [
      " Saved labeled file to: road/preprocessed/rloffa2.csv\n"
     ]
    },
    {
     "data": {
      "text/plain": [
       "Flag\n",
       "0    59447\n",
       "1     3535\n",
       "Name: count, dtype: int64"
      ]
     },
     "metadata": {},
     "output_type": "display_data"
    },
    {
     "name": "stdout",
     "output_type": "stream",
     "text": [
      " Saved labeled file to: road/preprocessed/rloffa2m.csv\n"
     ]
    },
    {
     "data": {
      "text/plain": [
       "Flag\n",
       "0    60119\n",
       "1     3535\n",
       "Name: count, dtype: int64"
      ]
     },
     "metadata": {},
     "output_type": "display_data"
    },
    {
     "name": "stdout",
     "output_type": "stream",
     "text": [
      " Saved labeled file to: road/preprocessed/rloffa3.csv\n"
     ]
    },
    {
     "data": {
      "text/plain": [
       "Flag\n",
       "0    59447\n",
       "1     3535\n",
       "Name: count, dtype: int64"
      ]
     },
     "metadata": {},
     "output_type": "display_data"
    },
    {
     "name": "stdout",
     "output_type": "stream",
     "text": [
      " Saved labeled file to: road/preprocessed/rloffa3m.csv\n"
     ]
    },
    {
     "data": {
      "text/plain": [
       "Flag\n",
       "0    156318\n",
       "1      5065\n",
       "Name: count, dtype: int64"
      ]
     },
     "metadata": {},
     "output_type": "display_data"
    },
    {
     "name": "stdout",
     "output_type": "stream",
     "text": [
      " Saved labeled file to: road/preprocessed/rlona1.csv\n"
     ]
    },
    {
     "data": {
      "text/plain": [
       "Flag\n",
       "0    156318\n",
       "1      5065\n",
       "Name: count, dtype: int64"
      ]
     },
     "metadata": {},
     "output_type": "display_data"
    },
    {
     "name": "stdout",
     "output_type": "stream",
     "text": [
      " Saved labeled file to: road/preprocessed/rlona1m.csv\n"
     ]
    },
    {
     "data": {
      "text/plain": [
       "Flag\n",
       "0    156318\n",
       "1      5065\n",
       "Name: count, dtype: int64"
      ]
     },
     "metadata": {},
     "output_type": "display_data"
    },
    {
     "name": "stdout",
     "output_type": "stream",
     "text": [
      " Saved labeled file to: road/preprocessed/rlona2.csv\n"
     ]
    },
    {
     "data": {
      "text/plain": [
       "Flag\n",
       "0    156318\n",
       "1      5065\n",
       "Name: count, dtype: int64"
      ]
     },
     "metadata": {},
     "output_type": "display_data"
    },
    {
     "name": "stdout",
     "output_type": "stream",
     "text": [
      " Saved labeled file to: road/preprocessed/rlona2m.csv\n"
     ]
    },
    {
     "data": {
      "text/plain": [
       "Flag\n",
       "0    156318\n",
       "1      5065\n",
       "Name: count, dtype: int64"
      ]
     },
     "metadata": {},
     "output_type": "display_data"
    },
    {
     "name": "stdout",
     "output_type": "stream",
     "text": [
      " Saved labeled file to: road/preprocessed/rlona3.csv\n"
     ]
    },
    {
     "data": {
      "text/plain": [
       "Flag\n",
       "0    156318\n",
       "1      5065\n",
       "Name: count, dtype: int64"
      ]
     },
     "metadata": {},
     "output_type": "display_data"
    },
    {
     "name": "stdout",
     "output_type": "stream",
     "text": [
      " Saved labeled file to: road/preprocessed/rlona3m.csv\n"
     ]
    }
   ],
   "source": [
    "df_injections = {\n",
    "    \"csa1\":      (csa1_df, \"595945450000FFFF\"),\n",
    "    \"csa1m\":     (csa1m_df, \"595945450000FFFF\"),\n",
    "    \"csa2\":      (csa2_df, \"595945450000FFFF\"),\n",
    "    \"csa2m\":     (csa2m_df, \"595945450000FFFF\"),\n",
    "    \"csa3\":      (csa3_df, \"595945450000FFFF\"),\n",
    "    \"csa3m\":     (csa3m_df, \"595945450000FFFF\"),\n",
    "    \"fa1\":       (fa1_df, \"FFFFFFFFFFFFFFFF\"),\n",
    "    \"fa2\":       (fa2_df, \"FFFFFFFFFFFFFFFF\"),\n",
    "    \"fa3\":       (fa3_df, \"FFFFFFFFFFFFFFFF\"),\n",
    "    \"msa1\":      (msa1_df, \"XXXXXXXXXXFFXXXX\"),\n",
    "    \"msa1m\":     (msa1m_df, \"XXXXXXXXXXFFXXXX\"),\n",
    "    \"msa2\":      (msa2_df, \"XXXXXXXXXXFFXXXX\"),\n",
    "    \"msa2m\":     (msa2m_df, \"XXXXXXXXXXFFXXXX\"),\n",
    "    \"msa3\":      (msa3_df, \"XXXXXXXXXXFFXXXX\"),\n",
    "    \"msa3m\":     (msa3m_df, \"XXXXXXXXXXFFXXXX\"),\n",
    "    \"mecta\":  (mecta_df, \"XXXXXXXXXXFFXXXX\"),\n",
    "    \"mectam\": (mectam_df, \"XXXXXXXXXXFFXXXX\"),\n",
    "    \"rloffa1\":   (rloffa1_df, \"XXXX04XXXXXXXXXX\"),\n",
    "    \"rloffa1m\":  (rloffa1m_df, \"XXXX04XXXXXXXXXX\"),\n",
    "    \"rloffa2\":   (rloffa1_df, \"XXXX04XXXXXXXXXX\"),\n",
    "    \"rloffa2m\":  (rloffa1m_df, \"XXXX04XXXXXXXXXX\"),\n",
    "    \"rloffa3\":   (rloffa1_df, \"XXXX04XXXXXXXXXX\"),\n",
    "    \"rloffa3m\":  (rloffa1m_df, \"XXXX04XXXXXXXXXX\"),\n",
    "    \"rlona1\":    (rlona2_df, \"XXXX0CXXXXXXXXXX\"),\n",
    "    \"rlona1m\":   (rlona2m_df, \"XXXX0CXXXXXXXXXX\"),\n",
    "    \"rlona2\":    (rlona2_df, \"XXXX0CXXXXXXXXXX\"),\n",
    "    \"rlona2m\":   (rlona2m_df, \"XXXX0CXXXXXXXXXX\"),\n",
    "    \"rlona3\":    (rlona2_df, \"XXXX0CXXXXXXXXXX\"),\n",
    "    \"rlona3m\":   (rlona2m_df, \"XXXX0CXXXXXXXXXX\"),\n",
    "}\n",
    "\n",
    "# Loop through and apply the function\n",
    "for name, (df, inj_str) in df_injections.items():\n",
    "    output_path = f\"road/preprocessed/{name}.csv\"\n",
    "    label_and_format_dataframe(df, inj_str, output_csv=output_path)"
   ]
  },
  {
   "cell_type": "code",
   "execution_count": 67,
   "id": "4df258cc-3833-441c-99c1-de7c8d879101",
   "metadata": {},
   "outputs": [],
   "source": [
    "import glob\n",
    "import os\n",
    "# Path to the folder containing your CSV files\n",
    "csv_folder = 'road/preprocessed'  # Update this\n",
    "# Read all CSV files in the folder\n",
    "csv_files = glob.glob(os.path.join(csv_folder, \"*.csv\"))\n",
    "# Read and concatenate all files\n",
    "attack_df = pd.concat((pd.read_csv(f) for f in csv_files), ignore_index=True)\n",
    "# Save to a single merged CSV file\n",
    "attack_df.to_csv(\"road/preprocessed/merged_attack_data.csv\", index=False)\n"
   ]
  },
  {
   "cell_type": "code",
   "execution_count": 2,
   "id": "f3f9b97a",
   "metadata": {},
   "outputs": [
    {
     "name": "stdout",
     "output_type": "stream",
     "text": [
      "Merged 16 files into attack_data_without_masquerade.csv\n"
     ]
    }
   ],
   "source": [
    "import glob\n",
    "import os\n",
    "import pandas as pd\n",
    "\n",
    "# Path to the folder containing CSV files\n",
    "csv_folder = 'road/preprocessed'\n",
    "\n",
    "# Read all CSV files in the folder\n",
    "csv_files = glob.glob(os.path.join(csv_folder, \"*.csv\"))\n",
    "\n",
    "# Filter: exclude files ending with 'm.csv'\n",
    "csv_files = [f for f in csv_files if not os.path.basename(f).rstrip(\".csv\").endswith(\"m\")]\n",
    "\n",
    "# Read and concatenate all files\n",
    "attack_df = pd.concat((pd.read_csv(f) for f in csv_files), ignore_index=True)\n",
    "\n",
    "# Save to a single merged CSV file\n",
    "attack_df.to_csv(\"road/preprocessed/merged/attack_data_without_masquerade.csv\", index=False)\n",
    "\n",
    "print(f\"Merged {len(csv_files)} files into attack_data_without_masquerade.csv\")\n"
   ]
  },
  {
   "cell_type": "code",
   "execution_count": 4,
   "id": "be311049",
   "metadata": {},
   "outputs": [
    {
     "name": "stdout",
     "output_type": "stream",
     "text": [
      "['road/preprocessed\\\\csa1.csv', 'road/preprocessed\\\\csa2.csv', 'road/preprocessed\\\\csa3.csv', 'road/preprocessed\\\\fa1.csv', 'road/preprocessed\\\\fa2.csv', 'road/preprocessed\\\\fa3.csv', 'road/preprocessed\\\\mecta.csv', 'road/preprocessed\\\\msa1.csv', 'road/preprocessed\\\\msa2.csv', 'road/preprocessed\\\\msa3.csv', 'road/preprocessed\\\\rloffa1.csv', 'road/preprocessed\\\\rloffa2.csv', 'road/preprocessed\\\\rloffa3.csv', 'road/preprocessed\\\\rlona1.csv', 'road/preprocessed\\\\rlona2.csv', 'road/preprocessed\\\\rlona3.csv']\n"
     ]
    }
   ],
   "source": [
    "csv_files = [f for f in csv_files if not os.path.basename(f).rstrip(\".csv\").endswith(\"m\")]\n",
    "print(csv_files)"
   ]
  },
  {
   "cell_type": "code",
   "execution_count": 68,
   "id": "9bd36260-4b91-49a6-bb60-6d641252a4e9",
   "metadata": {},
   "outputs": [
    {
     "data": {
      "text/plain": [
       "Flag\n",
       "0    5987637\n",
       "1     199807\n",
       "Name: count, dtype: int64"
      ]
     },
     "metadata": {},
     "output_type": "display_data"
    }
   ],
   "source": [
    "display(attack_df['Flag'].value_counts())"
   ]
  },
  {
   "cell_type": "code",
   "execution_count": 4,
   "id": "c441587e-60f5-491d-907c-c12d8ec09db8",
   "metadata": {},
   "outputs": [],
   "source": [
    "addbl_df=make_can_df('road/ambient/ambient_dyno_drive_basic_long.log')\n",
    "addbs_df=make_can_df('road/ambient/ambient_dyno_drive_basic_short.log')\n",
    "addba_df=make_can_df('road/ambient/ambient_dyno_drive_benign_anomaly.log')\n",
    "addel_df=make_can_df('road/ambient/ambient_dyno_drive_extended_long.log')\n",
    "addes_df=make_can_df('road/ambient/ambient_dyno_drive_extended_short.log')\n",
    "addri_df=make_can_df('road/ambient/ambient_dyno_drive_radio_infotainment.log')\n",
    "addw_df=make_can_df('road/ambient/ambient_dyno_drive_winter.log')\n",
    "adeab_df=make_can_df('road/ambient/ambient_dyno_exercise_all_bits.log')\n",
    "adiri_df=make_can_df('road/ambient/ambient_dyno_idle_radio_infotainment.log')\n",
    "adr_df=make_can_df('road/ambient/ambient_dyno_reverse.log')\n",
    "ahsdd_df=make_can_df('road/ambient/ambient_highway_street_driving_diagnostics.log')\n",
    "ahsdl_df=make_can_df('road/ambient/ambient_highway_street_driving_long.log')"
   ]
  },
  {
   "cell_type": "code",
   "execution_count": 5,
   "id": "1af9c980-c976-4a95-8f21-804e10bb3581",
   "metadata": {},
   "outputs": [
    {
     "data": {
      "text/plain": [
       "Flag\n",
       "0    2802432\n",
       "Name: count, dtype: int64"
      ]
     },
     "metadata": {},
     "output_type": "display_data"
    },
    {
     "name": "stdout",
     "output_type": "stream",
     "text": [
      " Saved labeled file to: road/preprocessed/ambient/addbl.csv\n"
     ]
    },
    {
     "data": {
      "text/plain": [
       "Flag\n",
       "0    996482\n",
       "Name: count, dtype: int64"
      ]
     },
     "metadata": {},
     "output_type": "display_data"
    },
    {
     "name": "stdout",
     "output_type": "stream",
     "text": [
      " Saved labeled file to: road/preprocessed/ambient/addbs.csv\n"
     ]
    },
    {
     "data": {
      "text/plain": [
       "Flag\n",
       "0    720929\n",
       "Name: count, dtype: int64"
      ]
     },
     "metadata": {},
     "output_type": "display_data"
    },
    {
     "name": "stdout",
     "output_type": "stream",
     "text": [
      " Saved labeled file to: road/preprocessed/ambient/addba.csv\n"
     ]
    },
    {
     "data": {
      "text/plain": [
       "Flag\n",
       "0    1335049\n",
       "Name: count, dtype: int64"
      ]
     },
     "metadata": {},
     "output_type": "display_data"
    },
    {
     "name": "stdout",
     "output_type": "stream",
     "text": [
      " Saved labeled file to: road/preprocessed/ambient/addel.csv\n"
     ]
    },
    {
     "data": {
      "text/plain": [
       "Flag\n",
       "0    741572\n",
       "Name: count, dtype: int64"
      ]
     },
     "metadata": {},
     "output_type": "display_data"
    },
    {
     "name": "stdout",
     "output_type": "stream",
     "text": [
      " Saved labeled file to: road/preprocessed/ambient/addes.csv\n"
     ]
    },
    {
     "data": {
      "text/plain": [
       "Flag\n",
       "0    874018\n",
       "Name: count, dtype: int64"
      ]
     },
     "metadata": {},
     "output_type": "display_data"
    },
    {
     "name": "stdout",
     "output_type": "stream",
     "text": [
      " Saved labeled file to: road/preprocessed/ambient/addri.csv\n"
     ]
    },
    {
     "data": {
      "text/plain": [
       "Flag\n",
       "0    106939\n",
       "Name: count, dtype: int64"
      ]
     },
     "metadata": {},
     "output_type": "display_data"
    },
    {
     "name": "stdout",
     "output_type": "stream",
     "text": [
      " Saved labeled file to: road/preprocessed/ambient/addw.csv\n"
     ]
    },
    {
     "data": {
      "text/plain": [
       "Flag\n",
       "0    4136020\n",
       "Name: count, dtype: int64"
      ]
     },
     "metadata": {},
     "output_type": "display_data"
    },
    {
     "name": "stdout",
     "output_type": "stream",
     "text": [
      " Saved labeled file to: road/preprocessed/ambient/adeab.csv\n"
     ]
    },
    {
     "data": {
      "text/plain": [
       "Flag\n",
       "0    1473098\n",
       "Name: count, dtype: int64"
      ]
     },
     "metadata": {},
     "output_type": "display_data"
    },
    {
     "name": "stdout",
     "output_type": "stream",
     "text": [
      " Saved labeled file to: road/preprocessed/ambient/adiri.csv\n"
     ]
    },
    {
     "data": {
      "text/plain": [
       "Flag\n",
       "0    115287\n",
       "Name: count, dtype: int64"
      ]
     },
     "metadata": {},
     "output_type": "display_data"
    },
    {
     "name": "stdout",
     "output_type": "stream",
     "text": [
      " Saved labeled file to: road/preprocessed/ambient/adr.csv\n"
     ]
    },
    {
     "data": {
      "text/plain": [
       "Flag\n",
       "0    1053809\n",
       "Name: count, dtype: int64"
      ]
     },
     "metadata": {},
     "output_type": "display_data"
    },
    {
     "name": "stdout",
     "output_type": "stream",
     "text": [
      " Saved labeled file to: road/preprocessed/ambient/ahsdd.csv\n"
     ]
    },
    {
     "data": {
      "text/plain": [
       "Flag\n",
       "0    8264936\n",
       "Name: count, dtype: int64"
      ]
     },
     "metadata": {},
     "output_type": "display_data"
    },
    {
     "name": "stdout",
     "output_type": "stream",
     "text": [
      " Saved labeled file to: road/preprocessed/ambient/ahsdl.csv\n"
     ]
    }
   ],
   "source": [
    "df_injections = {\n",
    "    \"addbl\":      (addbl_df, \"595945450000FFFF\"),\n",
    "    \"addbs\":     (addbs_df, \"595945450000FFFF\"),\n",
    "    \"addba\":      (addba_df, \"595945450000FFFF\"),\n",
    "    \"addel\":     (addel_df, \"595945450000FFFF\"),\n",
    "    \"addes\":      (addes_df, \"595945450000FFFF\"),\n",
    "    \"addri\":     (addri_df, \"595945450000FFFF\"),\n",
    "    \"addw\":       (addw_df, \"595945450000FFFF\"),\n",
    "    \"adeab\":       (adeab_df, \"595945450000FFFF\"),\n",
    "    \"adiri\":       (adiri_df, \"595945450000FFFF\"),\n",
    "    \"adr\":      (adr_df, \"595945450000FFFF\"),\n",
    "    \"ahsdd\":     (ahsdd_df, \"595945450000FFFF\"),\n",
    "    \"ahsdl\":      (ahsdl_df, \"595945450000FFFF\"),\n",
    "}\n",
    "\n",
    "for name, (df, inj_str) in df_injections.items():\n",
    "    output_path = f\"road/preprocessed/ambient/{name}.csv\"\n",
    "    label_and_format_dataframe(df, inj_str, output_csv=output_path)"
   ]
  },
  {
   "cell_type": "code",
   "execution_count": 6,
   "id": "45179d06-711a-4730-8099-ed93cea67036",
   "metadata": {},
   "outputs": [],
   "source": [
    "import glob\n",
    "import os\n",
    "# Path to the folder containing your CSV files\n",
    "csv_folder = 'road/preprocessed/ambient'  # Update this\n",
    "# Read all CSV files in the folder\n",
    "csv_files = glob.glob(os.path.join(csv_folder, \"*.csv\"))\n",
    "# Read and concatenate all files\n",
    "attack_df = pd.concat((pd.read_csv(f) for f in csv_files), ignore_index=True)\n",
    "# Save to a single merged CSV file\n",
    "attack_df.to_csv(\"road/preprocessed/merged_normal_data.csv\", index=False)"
   ]
  },
  {
   "cell_type": "code",
   "execution_count": 5,
   "id": "df535ff4-47c5-42bd-b884-5e3a502bdb8e",
   "metadata": {},
   "outputs": [
    {
     "name": "stdout",
     "output_type": "stream",
     "text": [
      "Assigned flag=1 to csa1.csv, saved -> road/preprocessed/multiclass\\csa1.csv\n",
      "Assigned flag=1 to csa1m.csv, saved -> road/preprocessed/multiclass\\csa1m.csv\n",
      "Assigned flag=1 to csa2.csv, saved -> road/preprocessed/multiclass\\csa2.csv\n",
      "Assigned flag=1 to csa2m.csv, saved -> road/preprocessed/multiclass\\csa2m.csv\n",
      "Assigned flag=1 to csa3.csv, saved -> road/preprocessed/multiclass\\csa3.csv\n",
      "Assigned flag=1 to csa3m.csv, saved -> road/preprocessed/multiclass\\csa3m.csv\n",
      "Assigned flag=2 to fa1.csv, saved -> road/preprocessed/multiclass\\fa1.csv\n",
      "Assigned flag=2 to fa2.csv, saved -> road/preprocessed/multiclass\\fa2.csv\n",
      "Assigned flag=2 to fa3.csv, saved -> road/preprocessed/multiclass\\fa3.csv\n",
      "Assigned flag=4 to mecta.csv, saved -> road/preprocessed/multiclass\\mecta.csv\n",
      "Assigned flag=4 to mectam.csv, saved -> road/preprocessed/multiclass\\mectam.csv\n",
      "Assigned flag=3 to msa1.csv, saved -> road/preprocessed/multiclass\\msa1.csv\n",
      "Assigned flag=3 to msa1m.csv, saved -> road/preprocessed/multiclass\\msa1m.csv\n",
      "Assigned flag=3 to msa2.csv, saved -> road/preprocessed/multiclass\\msa2.csv\n",
      "Assigned flag=3 to msa2m.csv, saved -> road/preprocessed/multiclass\\msa2m.csv\n",
      "Assigned flag=3 to msa3.csv, saved -> road/preprocessed/multiclass\\msa3.csv\n",
      "Assigned flag=3 to msa3m.csv, saved -> road/preprocessed/multiclass\\msa3m.csv\n",
      "Assigned flag=5 to rloffa1.csv, saved -> road/preprocessed/multiclass\\rloffa1.csv\n",
      "Assigned flag=5 to rloffa1m.csv, saved -> road/preprocessed/multiclass\\rloffa1m.csv\n",
      "Assigned flag=5 to rloffa2.csv, saved -> road/preprocessed/multiclass\\rloffa2.csv\n",
      "Assigned flag=5 to rloffa2m.csv, saved -> road/preprocessed/multiclass\\rloffa2m.csv\n",
      "Assigned flag=5 to rloffa3.csv, saved -> road/preprocessed/multiclass\\rloffa3.csv\n",
      "Assigned flag=5 to rloffa3m.csv, saved -> road/preprocessed/multiclass\\rloffa3m.csv\n",
      "Assigned flag=6 to rlona1.csv, saved -> road/preprocessed/multiclass\\rlona1.csv\n",
      "Assigned flag=6 to rlona1m.csv, saved -> road/preprocessed/multiclass\\rlona1m.csv\n",
      "Assigned flag=6 to rlona2.csv, saved -> road/preprocessed/multiclass\\rlona2.csv\n",
      "Assigned flag=6 to rlona2m.csv, saved -> road/preprocessed/multiclass\\rlona2m.csv\n",
      "Assigned flag=6 to rlona3.csv, saved -> road/preprocessed/multiclass\\rlona3.csv\n",
      "Assigned flag=6 to rlona3m.csv, saved -> road/preprocessed/multiclass\\rlona3m.csv\n"
     ]
    }
   ],
   "source": [
    "import pandas as pd\n",
    "import glob\n",
    "import os\n",
    "\n",
    "# Paths\n",
    "csv_folder = \"road/preprocessed\"\n",
    "save_folder = \"road/preprocessed/multiclass\"\n",
    "os.makedirs(save_folder, exist_ok=True)  # create folder if not exists\n",
    "\n",
    "# Mapping substrings in filenames → custom flag\n",
    "attack_map = {\n",
    "    \"rlona\": 6,\n",
    "    \"rloffa\": 5,\n",
    "    \"mecta\": 4,\n",
    "    \"msa\": 3,\n",
    "    \"fa\": 2,\n",
    "    \"csa\": 1\n",
    "}\n",
    "\n",
    "\n",
    "# Get all CSVs in folder\n",
    "csv_files = glob.glob(os.path.join(csv_folder, \"*.csv\"))\n",
    "\n",
    "for f in csv_files:\n",
    "    df = pd.read_csv(f)\n",
    "\n",
    "    # find which attack this file belongs to\n",
    "    for key, flag_val in attack_map.items():\n",
    "        if key in os.path.basename(f).lower():   # case-insensitive check\n",
    "            df.loc[df[\"Flag\"] == 1, \"Flag\"] = flag_val   # overwrite flag column\n",
    "            save_path = os.path.join(save_folder, os.path.basename(f))\n",
    "            df.to_csv(save_path, index=False)\n",
    "            print(f\"Assigned flag={flag_val} to {os.path.basename(f)}, saved -> {save_path}\")\n",
    "            break\n"
   ]
  },
  {
   "cell_type": "code",
   "execution_count": 6,
   "id": "f636e9eb",
   "metadata": {},
   "outputs": [
    {
     "name": "stdout",
     "output_type": "stream",
     "text": [
      "Merged 16 files into multiclass_attack_data_without_masquerade.csv\n"
     ]
    }
   ],
   "source": [
    "import glob\n",
    "import os\n",
    "import pandas as pd\n",
    "\n",
    "# Path to the folder containing CSV files\n",
    "csv_folder = 'road/preprocessed/multiclass'\n",
    "\n",
    "# Read all CSV files in the folder\n",
    "csv_files = glob.glob(os.path.join(csv_folder, \"*.csv\"))\n",
    "\n",
    "# Filter: exclude files ending with 'm.csv'\n",
    "csv_files = [f for f in csv_files if not os.path.basename(f).rstrip(\".csv\").endswith(\"m\")]\n",
    "\n",
    "# Read and concatenate all files\n",
    "attack_df = pd.concat((pd.read_csv(f) for f in csv_files), ignore_index=True)\n",
    "\n",
    "# Save to a single merged CSV file\n",
    "attack_df.to_csv(\"road/preprocessed/merged/multiclass_attack_data_without_masquerade.csv\", index=False)\n",
    "\n",
    "print(f\"Merged {len(csv_files)} files into multiclass_attack_data_without_masquerade.csv\")\n"
   ]
  }
 ],
 "metadata": {
  "kernelspec": {
   "display_name": "ivn-ids",
   "language": "python",
   "name": "python3"
  },
  "language_info": {
   "codemirror_mode": {
    "name": "ipython",
    "version": 3
   },
   "file_extension": ".py",
   "mimetype": "text/x-python",
   "name": "python",
   "nbconvert_exporter": "python",
   "pygments_lexer": "ipython3",
   "version": "3.10.16"
  }
 },
 "nbformat": 4,
 "nbformat_minor": 5
}
