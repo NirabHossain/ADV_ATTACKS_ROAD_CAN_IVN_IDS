{
 "cells": [
  {
   "cell_type": "code",
   "execution_count": 1,
   "id": "837f0d0a",
   "metadata": {},
   "outputs": [
    {
     "name": "stdout",
     "output_type": "stream",
     "text": [
      "Train samples: 1078308\n",
      "Test samples: 462133\n"
     ]
    }
   ],
   "source": [
    "import os\n",
    "import pandas as pd\n",
    "from sklearn.model_selection import train_test_split\n",
    "from sklearn.metrics import f1_score, confusion_matrix\n",
    "from sklearn.tree import DecisionTreeClassifier\n",
    "from sklearn.ensemble import RandomForestClassifier, ExtraTreesClassifier\n",
    "from xgboost import XGBClassifier\n",
    "from tensorflow.keras.models import Sequential\n",
    "from tensorflow.keras.layers import Dense, Input\n",
    "from tensorflow.keras.optimizers import Adam\n",
    "from tensorflow.keras.callbacks import EarlyStopping\n",
    "from sklearn.utils.class_weight import compute_class_weight\n",
    "import numpy as np\n",
    "# Load merged dataset\n",
    "df=pd.read_csv(\"road/preprocessed/merged/attack_data_without_masquerade.csv\")\n",
    "\n",
    "X = df.drop(columns=['Flag'], errors='ignore')\n",
    "y = df['Flag']\n",
    "\n",
    "# Stratified split Train/Test (70/30)\n",
    "X_train, X_test, y_train, y_test = train_test_split(\n",
    "    X, y, train_size=0.7, random_state=42, stratify=y\n",
    ")\n",
    "\n",
    "# Confirm sizes\n",
    "print(\"Train samples:\", len(X_train))\n",
    "print(\"Test samples:\", len(X_test))\n",
    "results = []"
   ]
  },
  {
   "cell_type": "code",
   "execution_count": 5,
   "id": "ead8b7e2",
   "metadata": {},
   "outputs": [
    {
     "name": "stdout",
     "output_type": "stream",
     "text": [
      "\n",
      "Training with batch size: 32\n",
      "Epoch 1/5\n",
      "30328/30328 [==============================] - 111s 4ms/step - loss: 0.0857 - accuracy: 0.9791 - val_loss: 0.0426 - val_accuracy: 0.9854\n",
      "Epoch 2/5\n",
      "30328/30328 [==============================] - 112s 4ms/step - loss: 0.0427 - accuracy: 0.9861 - val_loss: 0.0411 - val_accuracy: 0.9852\n",
      "Epoch 3/5\n",
      "30328/30328 [==============================] - 116s 4ms/step - loss: 0.0401 - accuracy: 0.9870 - val_loss: 0.0418 - val_accuracy: 0.9851\n",
      "Epoch 4/5\n",
      "30328/30328 [==============================] - 102s 3ms/step - loss: 0.0380 - accuracy: 0.9876 - val_loss: 0.0364 - val_accuracy: 0.9879\n",
      "Epoch 5/5\n",
      "30328/30328 [==============================] - 94s 3ms/step - loss: 0.0370 - accuracy: 0.9879 - val_loss: 0.0337 - val_accuracy: 0.9891\n",
      "452/452 [==============================] - 1s 2ms/step\n"
     ]
    },
    {
     "data": {
      "text/html": [
       "<div>\n",
       "<style scoped>\n",
       "    .dataframe tbody tr th:only-of-type {\n",
       "        vertical-align: middle;\n",
       "    }\n",
       "\n",
       "    .dataframe tbody tr th {\n",
       "        vertical-align: top;\n",
       "    }\n",
       "\n",
       "    .dataframe thead th {\n",
       "        text-align: right;\n",
       "    }\n",
       "</style>\n",
       "<table border=\"1\" class=\"dataframe\">\n",
       "  <thead>\n",
       "    <tr style=\"text-align: right;\">\n",
       "      <th></th>\n",
       "      <th>Model</th>\n",
       "      <th>Benign Samples</th>\n",
       "      <th>Malicious Samples</th>\n",
       "      <th>F1 score</th>\n",
       "      <th>FN</th>\n",
       "      <th>FP</th>\n",
       "    </tr>\n",
       "  </thead>\n",
       "  <tbody>\n",
       "    <tr>\n",
       "      <th>0</th>\n",
       "      <td>DNN</td>\n",
       "      <td>446538</td>\n",
       "      <td>10600</td>\n",
       "      <td>80.9%</td>\n",
       "      <td>4299</td>\n",
       "      <td>696</td>\n",
       "    </tr>\n",
       "    <tr>\n",
       "      <th>1</th>\n",
       "      <td>DNN</td>\n",
       "      <td>446705</td>\n",
       "      <td>10386</td>\n",
       "      <td>80.5%</td>\n",
       "      <td>4513</td>\n",
       "      <td>529</td>\n",
       "    </tr>\n",
       "  </tbody>\n",
       "</table>\n",
       "</div>"
      ],
      "text/plain": [
       "  Model  Benign Samples  Malicious Samples F1 score    FN   FP\n",
       "0   DNN          446538              10600    80.9%  4299  696\n",
       "1   DNN          446705              10386    80.5%  4513  529"
      ]
     },
     "metadata": {},
     "output_type": "display_data"
    }
   ],
   "source": [
    "\"\"\"----------DNN----------\"\"\"\n",
    "#for bs in batch_sizes:\n",
    "#print(f\"\\nTraining with batch size: 32\")\n",
    "bs=32\n",
    "epo=5\n",
    "vs=0.1\n",
    "model = Sequential([   \n",
    "Input(shape=(X_train.shape[1],)),  # Input layer (should be 10 features)\n",
    "Dense(16, activation='relu'),#Dropout(0.3),\n",
    "Dense(16, activation='relu'),#Dropout(0.3),\n",
    "Dense(16, activation='relu'),#Dropout(0.3),\n",
    "Dense(16, activation='relu'),#Dropout(0.3),\n",
    "Dense(1, activation='sigmoid')  # Output layer: 1 neurons\n",
    "])  # Rebuild model from scratch\n",
    "model.compile(optimizer=Adam(), loss='binary_crossentropy', metrics=['accuracy'])\n",
    "\n",
    "# Early stopping callback\n",
    "early_stop = EarlyStopping(monitor='loss', patience=3, restore_best_weights=True)\n",
    "\n",
    "print(f\"\\nTraining with batch size: {bs}\")\n",
    "history = model.fit(X_train, y_train, validation_split=vs, epochs=epo, batch_size=bs, verbose=1)\n",
    "\n",
    "    # ----- Predict -----\n",
    "y_pred_prob = model.predict(X_test, batch_size=1024)\n",
    "y_pred = (y_pred_prob > 0.5).astype(int)\n",
    "\n",
    "# ----- Evaluation -----\n",
    "# Convert multiclass to binary: 0 = normal, 1 = any attack\n",
    "y_test_binary = (y_test != 0).astype(int)\n",
    "y_pred_binary = (y_pred != 0).astype(int)\n",
    "\n",
    "# Calculate F1 score and confusion matrix\n",
    "f1 = f1_score(y_test_binary, y_pred_binary, zero_division=0)\n",
    "cm = confusion_matrix(y_test_binary, y_pred_binary)\n",
    "tn, fp, fn, tp = cm.ravel()\n",
    "# Store in your results table\n",
    "dnn=model\n",
    "results.append([\"DNN\", tn, tp, f\"{f1*100:.1f}%\", fn, fp])\n",
    "results_df = pd.DataFrame(results, columns=[\"Model\", \"Benign Samples\", \"Malicious Samples\", \"F1 score\", \"FN\", \"FP\"])\n",
    "display(results_df)"
   ]
  }
 ],
 "metadata": {
  "kernelspec": {
   "display_name": "ivn-ids",
   "language": "python",
   "name": "python3"
  },
  "language_info": {
   "codemirror_mode": {
    "name": "ipython",
    "version": 3
   },
   "file_extension": ".py",
   "mimetype": "text/x-python",
   "name": "python",
   "nbconvert_exporter": "python",
   "pygments_lexer": "ipython3",
   "version": "3.10.16"
  }
 },
 "nbformat": 4,
 "nbformat_minor": 5
}
